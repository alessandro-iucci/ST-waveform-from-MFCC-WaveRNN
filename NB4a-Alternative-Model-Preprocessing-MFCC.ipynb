{
 "cells": [
  {
   "cell_type": "markdown",
   "metadata": {},
   "source": [
    "## Alternative Model (Preprocessing)\n",
    "You need to run this before you run notebook 4b.\n",
    "\n",
    "The wavs in your dataset will be converted to 9bit linear and 80-band mels."
   ]
  },
  {
   "cell_type": "code",
   "execution_count": 1,
   "metadata": {},
   "outputs": [],
   "source": [
    "#from multiprocess import Pool, cpu_count\n",
    "import math, pickle, os, glob\n",
    "import numpy as np\n",
    "from utils.display import *\n",
    "from utils.dsp import *\n",
    "import python_speech_features as psf\n",
    "import scipy.io.wavfile as wavfile\n",
    "from tqdm import tqdm\n",
    "import python_speech_features as psf"
   ]
  },
  {
   "cell_type": "code",
   "execution_count": 2,
   "metadata": {},
   "outputs": [],
   "source": [
    "bits = 9\n",
    "notebook_name = 'nb4'"
   ]
  },
  {
   "cell_type": "code",
   "execution_count": 3,
   "metadata": {},
   "outputs": [],
   "source": [
    "# Point SEG_PATH to a folder containing your training wavs \n",
    "# Doesn't matter if it's LJspeech, CMU Arctic etc. it should work fine\n",
    "SEG_PATH = f'en/wavs'\n",
    "SEG_PITCH_PATH = f'en/pitch'\n",
    "DATA_PATH = f'data'"
   ]
  },
  {
   "cell_type": "code",
   "execution_count": 4,
   "metadata": {},
   "outputs": [],
   "source": [
    "def get_files(path, extension='.wav') :\n",
    "    filenames = []\n",
    "    for filename in glob.iglob(f'{path}/**/*{extension}', recursive=True):\n",
    "        filenames += [filename]\n",
    "    return filenames\n"
   ]
  },
  {
   "cell_type": "code",
   "execution_count": 5,
   "metadata": {},
   "outputs": [
    {
     "data": {
      "text/plain": [
       "13100"
      ]
     },
     "execution_count": 5,
     "metadata": {},
     "output_type": "execute_result"
    }
   ],
   "source": [
    "wav_files = get_files(SEG_PATH)\n",
    "len(wav_files)"
   ]
  },
  {
   "cell_type": "code",
   "execution_count": 6,
   "metadata": {},
   "outputs": [],
   "source": [
    "def load_pitch(path):\n",
    "    with open(path) as f:\n",
    "        X = f.read()\n",
    "    X=X.split(\"\\n\")\n",
    "    X=X[7:len(X)-1]\n",
    "    array = []\n",
    "    for line in X:\n",
    "        array.append(line.split(\" \")[2])\n",
    "    array = np.array(array)\n",
    "    array = array.astype(np.float)\n",
    "    return array\n",
    "\n",
    "def convert_file(path) :\n",
    "    wav = load_wav(path, encode=False)\n",
    "    rate,sig = wavfile.read(path)\n",
    "    mel = psf.mfcc(sig,rate,winlen=win_length/sample_rate,winstep=hop_length/sample_rate,nfft=n_fft).T\n",
    "    #mel = melspectrogram(wav)\n",
    "    quant = (wav + 1.) * (2**bits - 1) / 2\n",
    "    return mel.astype(np.float32), quant.astype(np.int)\n",
    "\n",
    "def upsampling(pitch, out_size,sample_rate=22050,pitch_interval=0.005):\n",
    "    out_pitch = []\n",
    "    for i in range(out_size):\n",
    "        t = i/sample_rate\n",
    "        #print(t)\n",
    "        index = int(t/pitch_interval)\n",
    "        try:\n",
    "            out_pitch.append(pitch[index])\n",
    "        except:\n",
    "            #print(t)\n",
    "            out_pitch.append(pitch[-1])\n",
    "    return np.array(out_pitch)"
   ]
  },
  {
   "cell_type": "code",
   "execution_count": 7,
   "metadata": {
    "scrolled": true
   },
   "outputs": [
    {
     "ename": "NameError",
     "evalue": "name 'sig' is not defined",
     "output_type": "error",
     "traceback": [
      "\u001b[1;31m---------------------------------------------------------------------------\u001b[0m",
      "\u001b[1;31mNameError\u001b[0m                                 Traceback (most recent call last)",
      "\u001b[1;32m<ipython-input-7-92221eafdf83>\u001b[0m in \u001b[0;36m<module>\u001b[1;34m\u001b[0m\n\u001b[0;32m      2\u001b[0m \u001b[0mwS\u001b[0m \u001b[1;33m=\u001b[0m \u001b[1;33m[\u001b[0m\u001b[1;36m0.00001\u001b[0m\u001b[1;33m*\u001b[0m\u001b[0mi\u001b[0m \u001b[1;32mfor\u001b[0m \u001b[0mi\u001b[0m \u001b[1;32min\u001b[0m \u001b[0mrange\u001b[0m\u001b[1;33m(\u001b[0m\u001b[1;36m10\u001b[0m\u001b[1;33m,\u001b[0m\u001b[1;36m1000\u001b[0m\u001b[1;33m)\u001b[0m\u001b[1;33m]\u001b[0m\u001b[1;33m\u001b[0m\u001b[1;33m\u001b[0m\u001b[0m\n\u001b[0;32m      3\u001b[0m \u001b[1;31m#wav = load_wav(wav_files[1])\u001b[0m\u001b[1;33m\u001b[0m\u001b[1;33m\u001b[0m\u001b[1;33m\u001b[0m\u001b[0m\n\u001b[1;32m----> 4\u001b[1;33m \u001b[0mprint\u001b[0m\u001b[1;33m(\u001b[0m\u001b[0mlen\u001b[0m\u001b[1;33m(\u001b[0m\u001b[0msig\u001b[0m\u001b[1;33m)\u001b[0m\u001b[1;33m)\u001b[0m\u001b[1;33m\u001b[0m\u001b[1;33m\u001b[0m\u001b[0m\n\u001b[0m\u001b[0;32m      5\u001b[0m \u001b[0mrate\u001b[0m\u001b[1;33m,\u001b[0m\u001b[0msig\u001b[0m \u001b[1;33m=\u001b[0m \u001b[0mwavfile\u001b[0m\u001b[1;33m.\u001b[0m\u001b[0mread\u001b[0m\u001b[1;33m(\u001b[0m\u001b[0mwav_files\u001b[0m\u001b[1;33m[\u001b[0m\u001b[1;36m1\u001b[0m\u001b[1;33m]\u001b[0m\u001b[1;33m)\u001b[0m\u001b[1;33m\u001b[0m\u001b[1;33m\u001b[0m\u001b[0m\n\u001b[0;32m      6\u001b[0m \u001b[0mmin_winstep\u001b[0m \u001b[1;33m=\u001b[0m \u001b[1;33m-\u001b[0m\u001b[1;36m1\u001b[0m\u001b[1;33m\u001b[0m\u001b[1;33m\u001b[0m\u001b[0m\n",
      "\u001b[1;31mNameError\u001b[0m: name 'sig' is not defined"
     ]
    }
   ],
   "source": [
    "#wL = [0.005,0.01,0.02,0.03]\n",
    "wS = [0.00001*i for i in range(10,1000)]\n",
    "#wav = load_wav(wav_files[1])\n",
    "print(len(sig))\n",
    "rate,sig = wavfile.read(wav_files[1])\n",
    "min_winstep = -1\n",
    "min_diff = 10\n",
    "for i,winstep in enumerate(wS):\n",
    "    mel = psf.mfcc(sig,rate,winlen=0.01,winstep=winstep,nfft=n_fft).T\n",
    "    diff = abs(round(len(sig)/mel.shape[-1])-len(sig)/mel.shape[-1])\n",
    "    if(diff<min_diff):\n",
    "        min_diff=diff\n",
    "        min_i = winstep"
   ]
  },
  {
   "cell_type": "markdown",
   "metadata": {},
   "source": [
    "We determine the \"magic numbers\" to get a (almost) integer ratio between the size of the initial signal, and the size of the MFCC vector.\n",
    "\n",
    "We have `win_len=0.01`, and `winstep = 0.0053` that leads to the ratio from mel_size to sig size is $1:117$"
   ]
  },
  {
   "cell_type": "code",
   "execution_count": 7,
   "metadata": {},
   "outputs": [],
   "source": [
    "QUANT_PATH = DATA_PATH + '/quant/'\n",
    "MEL_PATH = DATA_PATH + '/mel/'\n",
    "PITCH_PATH = DATA_PATH + '/pitch/'\n",
    "#%mkdir -p $QUANT_PATH\n",
    "#%mkdir -p $MEL_PATH"
   ]
  },
  {
   "cell_type": "code",
   "execution_count": 8,
   "metadata": {},
   "outputs": [],
   "source": [
    "def process_wav(path) :\n",
    "    id = path.split('/')[-1][:-4].split(\"\\\\\")[-1]\n",
    "    m, x = convert_file(path)\n",
    "    pitch = load_pitch(f'{SEG_PITCH_PATH}/{id}.f0')\n",
    "    new_pitch = upsampling(pitch, len(x))\n",
    "    np.save(f'{PITCH_PATH}{id}.npy', new_pitch)\n",
    "    np.save(f'{MEL_PATH}{id}.npy', m)\n",
    "    np.save(f'{QUANT_PATH}{id}.npy', x)\n",
    "    return id"
   ]
  },
  {
   "cell_type": "code",
   "execution_count": 9,
   "metadata": {},
   "outputs": [
    {
     "data": {
      "text/plain": [
       "'LJ001-0001'"
      ]
     },
     "execution_count": 9,
     "metadata": {},
     "output_type": "execute_result"
    }
   ],
   "source": [
    "process_wav(wav_files[0])"
   ]
  },
  {
   "cell_type": "code",
   "execution_count": 10,
   "metadata": {},
   "outputs": [],
   "source": [
    "# This will take a while depending on size of dataset\n",
    "#pool = Pool(processes=cpu_count())\n",
    "#dataset_ids = []\n",
    "#for i, id in enumerate(pool.imap_unordered(process_wav, wav_files), 1):\n",
    "#    dataset_ids += [id]\n",
    "#    stream('Processing: %i/%i', (i, len(wav_files)))"
   ]
  },
  {
   "cell_type": "code",
   "execution_count": 11,
   "metadata": {
    "scrolled": true
   },
   "outputs": [
    {
     "name": "stderr",
     "output_type": "stream",
     "text": [
      "100%|██████████████████████████████████████████████████████████████████████████| 13100/13100 [1:38:36<00:00,  2.68it/s]\n"
     ]
    }
   ],
   "source": [
    "# This will take a while depending on size of dataset\n",
    "dataset_ids = []\n",
    "for elt in tqdm(wav_files):\n",
    "    dataset_ids+=[process_wav(elt)]"
   ]
  },
  {
   "cell_type": "code",
   "execution_count": 12,
   "metadata": {},
   "outputs": [],
   "source": [
    "with open(DATA_PATH + '/dataset_ids.pkl', 'wb') as f:\n",
    "    pickle.dump(dataset_ids, f)"
   ]
  },
  {
   "cell_type": "code",
   "execution_count": 13,
   "metadata": {},
   "outputs": [
    {
     "data": {
      "text/plain": [
       "13100"
      ]
     },
     "execution_count": 13,
     "metadata": {},
     "output_type": "execute_result"
    }
   ],
   "source": [
    "len(dataset_ids)"
   ]
  },
  {
   "cell_type": "code",
   "execution_count": null,
   "metadata": {},
   "outputs": [],
   "source": []
  }
 ],
 "metadata": {
  "kernelspec": {
   "display_name": "Python 3",
   "language": "python",
   "name": "python3"
  },
  "language_info": {
   "codemirror_mode": {
    "name": "ipython",
    "version": 3
   },
   "file_extension": ".py",
   "mimetype": "text/x-python",
   "name": "python",
   "nbconvert_exporter": "python",
   "pygments_lexer": "ipython3",
   "version": "3.7.3"
  },
  "varInspector": {
   "cols": {
    "lenName": 16,
    "lenType": 16,
    "lenVar": 40
   },
   "kernels_config": {
    "python": {
     "delete_cmd_postfix": "",
     "delete_cmd_prefix": "del ",
     "library": "var_list.py",
     "varRefreshCmd": "print(var_dic_list())"
    },
    "r": {
     "delete_cmd_postfix": ") ",
     "delete_cmd_prefix": "rm(",
     "library": "var_list.r",
     "varRefreshCmd": "cat(var_dic_list()) "
    }
   },
   "types_to_exclude": [
    "module",
    "function",
    "builtin_function_or_method",
    "instance",
    "_Feature"
   ],
   "window_display": false
  }
 },
 "nbformat": 4,
 "nbformat_minor": 2
}
